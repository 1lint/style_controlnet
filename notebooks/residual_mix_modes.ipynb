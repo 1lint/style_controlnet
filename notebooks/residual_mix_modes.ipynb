{
 "cells": [
  {
   "cell_type": "code",
   "execution_count": 3,
   "metadata": {},
   "outputs": [
    {
     "data": {
      "application/vnd.jupyter.widget-view+json": {
       "model_id": "6483e8d8991d4e1b8f67d32d6501173e",
       "version_major": 2,
       "version_minor": 0
      },
      "text/plain": [
       "Fetching 14 files:   0%|          | 0/14 [00:00<?, ?it/s]"
      ]
     },
     "metadata": {},
     "output_type": "display_data"
    }
   ],
   "source": [
    "from modified_diffusers import StableDiffusionControlNetPipeline, ControlNetModel\n",
    "import torch\n",
    "\n",
    "pretrained_path = 'lint/simpathizer'\n",
    "\n",
    "pipe = StableDiffusionControlNetPipeline.from_pretrained(\n",
    "    pretrained_path,\n",
    "    controlnet=ControlNetModel.from_pretrained(pretrained_path, subfolder='controlnet'),\n",
    "    safety_checker=None,\n",
    "    feature_extractor=None,\n",
    "    requires_safety_checker=False,\n",
    ")\n",
    "\n",
    "for component in pipe.components.values():\n",
    "    if hasattr(component, 'device'):\n",
    "        component.to('cuda', torch.float16)\n",
    "\n",
    "pipe.enable_xformers_memory_efficient_attention()"
   ]
  },
  {
   "cell_type": "code",
   "execution_count": null,
   "metadata": {},
   "outputs": [],
   "source": [
    "import os\n",
    "\n",
    "output_dir = \"archive/mix_modes\"\n",
    "os.makedirs(output_dir, exist_ok=True)\n",
    "\n",
    "for mode in [None, \"+w\", \"-w\", \"+h\", \"-h\", \"+c\", \"-c\"]:\n",
    "    result = pipe(\n",
    "        prompt=\"beautiful woman with blue eyes\", \n",
    "        generator=torch.Generator().manual_seed(2048), \n",
    "        guidance_scale=7.5,\n",
    "        controlnet_conditioning_scale=0.5,\n",
    "        controlnet_prompt=\"1girl, blue eyes\",\n",
    "        controlnet_mode=mode # should be one of [None, \"+w\", \"-w\", \"+h\", \"-h\", \"+c\", \"-c\"]\n",
    "    )\n",
    "    result.images[0].save(f\"{output_dir}/mode_{mode}.png\")"
   ]
  },
  {
   "cell_type": "code",
   "execution_count": null,
   "metadata": {},
   "outputs": [],
   "source": [
    "import numpy as np\n",
    "conditioning_scales = np.linspace(0, 1, 11)\n",
    "\n",
    "output_dir = \"archive/woman_blue_eyes\"\n",
    "os.makedirs(output_dir, exist_ok=True)\n",
    "\n",
    "for cond_scale in conditioning_scales:\n",
    "    result = pipe(\n",
    "        prompt=\"beautiful woman with blue eyes\", \n",
    "        generator=torch.Generator().manual_seed(2048), \n",
    "        controlnet_conditioning_scale=np.around(cond_scale,1),\n",
    "        controlnet_prompt=\"1girl, blue eyes\",\n",
    "        controlnet_mode=None # should be one of [None, \"+w\", \"-w\", \"+h\", \"-h\", \"+c\", \"-c\"]\n",
    "    )\n",
    "\n",
    "    result.images[0].save(f'{output_dir}/conditioning_scale_{np.around(cond_scale,1)}.png')"
   ]
  },
  {
   "cell_type": "code",
   "execution_count": null,
   "metadata": {},
   "outputs": [],
   "source": [
    "from PIL import Image\n",
    "from torchvision.utils import make_grid\n",
    "from torchvision.io import read_image\n",
    "from pathlib import Path\n",
    "\n",
    "images = []\n",
    "image_dir = './archive/style_mixing_modes'\n",
    "\n",
    "for image_path in sorted(Path(image_dir).glob('*.png')):\n",
    "    images.append(read_image(str(image_path)))\n",
    "\n",
    "grid = make_grid(images, nrow=11)\n",
    "grid = grid.permute(1,2,0).numpy()\n",
    "image_grid = Image.fromarray(grid)\n",
    "image_grid.save(Path(image_dir).parent/f'{Path(image_dir).name}_grid.png')"
   ]
  }
 ],
 "metadata": {
  "kernelspec": {
   "display_name": "Python 3.10.8 ('ml')",
   "language": "python",
   "name": "python3"
  },
  "language_info": {
   "codemirror_mode": {
    "name": "ipython",
    "version": 3
   },
   "file_extension": ".py",
   "mimetype": "text/x-python",
   "name": "python",
   "nbconvert_exporter": "python",
   "pygments_lexer": "ipython3",
   "version": "3.10.8"
  },
  "orig_nbformat": 4,
  "vscode": {
   "interpreter": {
    "hash": "cbbcdde725e9a65f1cb734ac4223fed46e03daf1eb62d8ccb3c48face3871521"
   }
  }
 },
 "nbformat": 4,
 "nbformat_minor": 2
}
