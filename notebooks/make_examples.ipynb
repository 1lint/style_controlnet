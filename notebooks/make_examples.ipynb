{
 "cells": [
  {
   "cell_type": "code",
   "execution_count": null,
   "metadata": {},
   "outputs": [],
   "source": [
    "from modified_diffusers import StableDiffusionControlNetPipeline, ControlNetModel\n",
    "from diffusers import AutoencoderKL, StableDiffusionPipeline\n",
    "import torch\n",
    "import numpy as np\n",
    "import os"
   ]
  },
  {
   "cell_type": "code",
   "execution_count": null,
   "metadata": {},
   "outputs": [],
   "source": [
    "#ckpt_path='/home/user/stable-diffusion-webui/models/Stable-diffusion/dreamshaper_331BakedVae.safetensors'\n",
    "#pipe = StableDiffusionPipeline.from_ckpt(ckpt_path)\n",
    "#pipe.vae = AutoencoderKL.from_pretrained('lint/anime_vae')\n",
    "\n",
    "pipe = StableDiffusionPipeline.from_pretrained('lint/simpathizer')\n"
   ]
  },
  {
   "cell_type": "code",
   "execution_count": null,
   "metadata": {},
   "outputs": [],
   "source": [
    "pipe = StableDiffusionControlNetPipeline(\n",
    "    **pipe.components,\n",
    "    #controlnet=ControlNetModel.from_pretrained('../models/controlstyle/checkpoint-44000/'),\n",
    "    controlnet=ControlNetModel.from_pretrained('lint/simpathizer', subfolder='controlnet'),\n",
    ")\n",
    "\n"
   ]
  },
  {
   "cell_type": "code",
   "execution_count": null,
   "metadata": {},
   "outputs": [],
   "source": [
    "pipe.feature_extractor = None\n",
    "pipe.safety_checker = None\n",
    "pipe.requires_safety_checker = False\n",
    "#pipe.enable_xformers_memory_efficient_attention()\n",
    "\n",
    "for component in pipe.components.values():\n",
    "    if isinstance(component, torch.nn.Module):\n",
    "        component.to('cuda', torch.float16)\n"
   ]
  },
  {
   "cell_type": "code",
   "execution_count": null,
   "metadata": {},
   "outputs": [],
   "source": [
    "prompt = \"beautiful woman with blue eyes\"\n",
    "\n",
    "controlnet_prompt = \"1girl, blue eyes\"\n"
   ]
  },
  {
   "cell_type": "code",
   "execution_count": null,
   "metadata": {},
   "outputs": [],
   "source": [
    "conditioning_scales = np.linspace(0, 1, 101)\n",
    "\n",
    "output_dir = '../archive/style_interp'\n",
    "os.makedirs(output_dir, exist_ok=True)\n",
    "\n",
    "for cond_scale in conditioning_scales:\n",
    "    result = pipe(\n",
    "        prompt=prompt, \n",
    "        generator=torch.Generator().manual_seed(2048), \n",
    "        controlnet_conditioning_scale=cond_scale,\n",
    "        controlnet_prompt=controlnet_prompt,\n",
    "    )\n",
    "\n",
    "    result.images[0].save(f'{output_dir}/conditioning_scale_{np.around(cond_scale,2)}.png')"
   ]
  },
  {
   "cell_type": "code",
   "execution_count": 20,
   "metadata": {},
   "outputs": [
    {
     "data": {
      "image/png": "[encoded data removed]",
      "text/plain": [
       "<PIL.Image.Image image mode=RGB size=64x64>"
      ]
     },
     "execution_count": 20,
     "metadata": {},
     "output_type": "execute_result"
    }
   ],
   "source": [
    "frames[0].resize((64,64))"
   ]
  },
  {
   "cell_type": "code",
   "execution_count": 21,
   "metadata": {},
   "outputs": [],
   "source": [
    "# make gif\n",
    "\n",
    "from glob import glob\n",
    "from PIL import Image\n",
    "\n",
    "save_dir = '../archive'\n",
    "resolution = (128, 128)\n",
    "\n",
    "frames = [Image.open(image).resize(resolution) for image in sorted(glob(f\"{output_dir}/*.png\"))]\n",
    "\n",
    "frames[0].save(f\"{save_dir}/blue_eyes.gif\", format=\"GIF\", append_images=frames+frames[::-1],\n",
    "               save_all=True, duration=int(1000/30), loop=0)"
   ]
  },
  {
   "cell_type": "code",
   "execution_count": null,
   "metadata": {},
   "outputs": [],
   "source": [
    "# make image grid\n",
    "\n",
    "from PIL import Image\n",
    "from torchvision.utils import make_grid\n",
    "from torchvision.io import read_image\n",
    "from pathlib import Path\n",
    "\n",
    "images = []\n",
    "image_dir = output_dir\n",
    "\n",
    "for image_path in sorted(Path(image_dir).glob('*.png')):\n",
    "    images.append(read_image(str(image_path)))\n",
    "\n",
    "grid = make_grid(images, nrow=11)\n",
    "grid = grid.permute(1,2,0).numpy()\n",
    "image_grid = Image.fromarray(grid)\n",
    "image_grid.save(Path(image_dir).parent/f'{Path(output_dir).name}_grid.png')"
   ]
  }
 ],
 "metadata": {
  "kernelspec": {
   "display_name": "Python 3.10.8 ('ml')",
   "language": "python",
   "name": "python3"
  },
  "language_info": {
   "codemirror_mode": {
    "name": "ipython",
    "version": 3
   },
   "file_extension": ".py",
   "mimetype": "text/x-python",
   "name": "python",
   "nbconvert_exporter": "python",
   "pygments_lexer": "ipython3",
   "version": "3.10.8"
  },
  "orig_nbformat": 4,
  "vscode": {
   "interpreter": {
    "hash": "cbbcdde725e9a65f1cb734ac4223fed46e03daf1eb62d8ccb3c48face3871521"
   }
  }
 },
 "nbformat": 4,
 "nbformat_minor": 2
}
